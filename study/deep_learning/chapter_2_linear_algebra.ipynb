{
 "cells": [
  {
   "cell_type": "markdown",
   "metadata": {},
   "source": [
    "## Scalars, vectors, matrices and tensors\n",
    "\n",
    "**scalars**: float   \n",
    "**vectors**: numpy.array   \n",
    "**matrix and tensors**: numpy.ndarray   \n",
    "\n",
    "_Examples_:"
   ]
  },
  {
   "cell_type": "code",
   "execution_count": 139,
   "metadata": {},
   "outputs": [],
   "source": [
    "import numpy as np\n",
    "\n",
    "def pprint(*names):\n",
    "    for name in names:\n",
    "        print \"%s:\" %(name,)\n",
    "        print eval(name)\n",
    "        print \"\\n\"\n",
    "\n",
    "def transpose(x):\n",
    "    if not isinstance (x, np.ndarray):\n",
    "        return x\n",
    "    if x.ndim == 1:\n",
    "        return x[:, np.newaxis]\n",
    "    if x.shape[1] == 1:\n",
    "        return x.T[0]\n",
    "    return x.T \n",
    "    \n",
    "def vector(*x):\n",
    "    if not isinstance(x[0], list):\n",
    "        return transpose(np.array(x))\n",
    "    return transpose(np.array(x[0]))\n",
    "\n",
    "def matrix(x):\n",
    "    return np.array(x)\n",
    "\n",
    "def scalar(x):\n",
    "    if isinstance(x, list):\n",
    "        return x[0]\n",
    "    return x"
   ]
  },
  {
   "cell_type": "code",
   "execution_count": 138,
   "metadata": {},
   "outputs": [
    {
     "data": {
      "text/plain": [
       "(1, 10)"
      ]
     },
     "execution_count": 138,
     "metadata": {},
     "output_type": "execute_result"
    }
   ],
   "source": [
    "x.T.shape"
   ]
  },
  {
   "cell_type": "code",
   "execution_count": 140,
   "metadata": {},
   "outputs": [
    {
     "name": "stdout",
     "output_type": "stream",
     "text": [
      "x:\n",
      "[['x[0]']\n",
      " ['x[1]']\n",
      " ['x[2]']\n",
      " ['x[3]']\n",
      " ['x[4]']\n",
      " ['x[5]']\n",
      " ['x[6]']\n",
      " ['x[7]']\n",
      " ['x[8]']\n",
      " ['x[9]']]\n",
      "\n",
      "\n",
      "y:\n",
      "[[ 1]\n",
      " [ 2]\n",
      " [ 3]\n",
      " [ 4]\n",
      " [ 5]\n",
      " [ 6]\n",
      " [ 7]\n",
      " [ 8]\n",
      " [ 9]\n",
      " [10]]\n",
      "\n",
      "\n"
     ]
    }
   ],
   "source": [
    "x = vector([\"x[%d]\" %(i,) for i in range(10)])\n",
    "y = vector(range(1,11))\n",
    "pprint(\"x\", \"y\")"
   ]
  },
  {
   "cell_type": "code",
   "execution_count": 141,
   "metadata": {},
   "outputs": [
    {
     "name": "stdout",
     "output_type": "stream",
     "text": [
      "A:\n",
      "[['A[0][0]' 'A[1][0]']\n",
      " ['A[0][1]' 'A[1][1]']]\n",
      "\n",
      "\n",
      "B:\n",
      "[[11 21]\n",
      " [12 22]]\n",
      "\n",
      "\n"
     ]
    }
   ],
   "source": [
    "A = matrix([[\"A[%d][%d]\" %(i,j) for i in range(2)] for j in range(2)])\n",
    "B = matrix([[i*10+j for i in range(1, 3)] for j in range(1,3)])\n",
    "\n",
    "pprint(\"A\", \"B\")"
   ]
  },
  {
   "cell_type": "code",
   "execution_count": 142,
   "metadata": {},
   "outputs": [
    {
     "name": "stdout",
     "output_type": "stream",
     "text": [
      "T:\n",
      "[[['T[0][0][0]' 'T[1][0][0]']\n",
      "  ['T[0][1][0]' 'T[1][1][0]']]\n",
      "\n",
      " [['T[0][0][1]' 'T[1][0][1]']\n",
      "  ['T[0][1][1]' 'T[1][1][1]']]\n",
      "\n",
      " [['T[0][0][2]' 'T[1][0][2]']\n",
      "  ['T[0][1][2]' 'T[1][1][2]']]]\n",
      "\n",
      "\n",
      "U:\n",
      "[[[111 211]\n",
      "  [121 221]]\n",
      "\n",
      " [[112 212]\n",
      "  [122 222]]\n",
      "\n",
      " [[113 213]\n",
      "  [123 223]]]\n",
      "\n",
      "\n"
     ]
    }
   ],
   "source": [
    "T = matrix([[[\"T[%d][%d][%d]\" %(i, j, k) for i in range(2)] for j in range(2)] for k in range(3)])\n",
    "U = matrix([[[i*100 + j*10 + k for i in range(1, 3)] for j in range(1, 3)] for k in range(1, 4)])\n",
    "\n",
    "pprint(\"T\", \"U\")"
   ]
  },
  {
   "cell_type": "code",
   "execution_count": 143,
   "metadata": {},
   "outputs": [
    {
     "data": {
      "text/plain": [
       "2"
      ]
     },
     "execution_count": 143,
     "metadata": {},
     "output_type": "execute_result"
    }
   ],
   "source": [
    "x.ndim"
   ]
  },
  {
   "cell_type": "code",
   "execution_count": 144,
   "metadata": {},
   "outputs": [
    {
     "name": "stdout",
     "output_type": "stream",
     "text": [
      "x_t:\n",
      "['x[0]' 'x[1]' 'x[2]' 'x[3]' 'x[4]' 'x[5]' 'x[6]' 'x[7]' 'x[8]' 'x[9]']\n",
      "\n",
      "\n",
      "A_t:\n",
      "[['A[0][0]' 'A[0][1]']\n",
      " ['A[1][0]' 'A[1][1]']]\n",
      "\n",
      "\n"
     ]
    }
   ],
   "source": [
    "x_t = transpose(x)\n",
    "A_t = transpose(A)\n",
    "\n",
    "pprint(\"x_t\", \"A_t\")"
   ]
  },
  {
   "cell_type": "code",
   "execution_count": 145,
   "metadata": {},
   "outputs": [
    {
     "name": "stdout",
     "output_type": "stream",
     "text": [
      "B + B:\n",
      "[[22 42]\n",
      " [24 44]]\n",
      "\n",
      "\n"
     ]
    }
   ],
   "source": [
    "pprint(\"B + B\")"
   ]
  },
  {
   "cell_type": "code",
   "execution_count": 147,
   "metadata": {},
   "outputs": [
    {
     "name": "stdout",
     "output_type": "stream",
     "text": [
      "a*B + c:\n",
      "[[23 43]\n",
      " [25 45]]\n",
      "\n",
      "\n"
     ]
    }
   ],
   "source": [
    "a = 2\n",
    "c = 1\n",
    "pprint(\"a*B + c\")"
   ]
  },
  {
   "cell_type": "code",
   "execution_count": 151,
   "metadata": {},
   "outputs": [
    {
     "name": "stdout",
     "output_type": "stream",
     "text": [
      "b:\n",
      "[[1]\n",
      " [2]]\n",
      "\n",
      "\n",
      "B:\n",
      "[[11 21]\n",
      " [12 22]]\n",
      "\n",
      "\n",
      "B + b:\n",
      "[[12 22]\n",
      " [14 24]]\n",
      "\n",
      "\n"
     ]
    }
   ],
   "source": [
    "b = vector(range(1,3))\n",
    "pprint(\"b\", \"B\", \"B + b\")"
   ]
  },
  {
   "cell_type": "code",
   "execution_count": 169,
   "metadata": {},
   "outputs": [
    {
     "name": "stdout",
     "output_type": "stream",
     "text": [
      "mul(B, B):\n",
      "[[373 693]\n",
      " [396 736]]\n",
      "\n",
      "\n",
      "mul(transpose(y), y):\n",
      "[385]\n",
      "\n",
      "\n",
      "mul(y, y):\n",
      "[[  1   2   3   4   5   6   7   8   9  10]\n",
      " [  2   4   6   8  10  12  14  16  18  20]\n",
      " [  3   6   9  12  15  18  21  24  27  30]\n",
      " [  4   8  12  16  20  24  28  32  36  40]\n",
      " [  5  10  15  20  25  30  35  40  45  50]\n",
      " [  6  12  18  24  30  36  42  48  54  60]\n",
      " [  7  14  21  28  35  42  49  56  63  70]\n",
      " [  8  16  24  32  40  48  56  64  72  80]\n",
      " [  9  18  27  36  45  54  63  72  81  90]\n",
      " [ 10  20  30  40  50  60  70  80  90 100]]\n",
      "\n",
      "\n",
      "mul(3, 4):\n",
      "12\n",
      "\n",
      "\n"
     ]
    }
   ],
   "source": [
    "def mul(*args):\n",
    "    def multiply(a, b):\n",
    "        try:\n",
    "            return np.dot(a, b)\n",
    "        except ValueError:\n",
    "            return np.outer(a, b)\n",
    "        \n",
    "    return reduce(multiply, args)\n",
    "\n",
    "pprint(\"mul(B, B)\")\n",
    "pprint(\"mul(transpose(y), y)\")\n",
    "pprint(\"mul(y, y)\")\n",
    "pprint(\"mul(3, 4)\")"
   ]
  },
  {
   "cell_type": "code",
   "execution_count": null,
   "metadata": {},
   "outputs": [],
   "source": []
  }
 ],
 "metadata": {
  "kernelspec": {
   "display_name": "personal",
   "language": "python",
   "name": "personal"
  },
  "language_info": {
   "codemirror_mode": {
    "name": "ipython",
    "version": 2
   },
   "file_extension": ".py",
   "mimetype": "text/x-python",
   "name": "python",
   "nbconvert_exporter": "python",
   "pygments_lexer": "ipython2",
   "version": "2.7.6"
  }
 },
 "nbformat": 4,
 "nbformat_minor": 2
}
